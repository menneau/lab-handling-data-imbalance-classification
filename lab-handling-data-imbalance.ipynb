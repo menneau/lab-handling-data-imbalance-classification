{
 "cells": [
  {
   "cell_type": "markdown",
   "id": "c4b263c3",
   "metadata": {},
   "source": [
    "# Lab | Handling Data Imbalance"
   ]
  },
  {
   "cell_type": "markdown",
   "id": "01389fe4",
   "metadata": {},
   "source": [
    "#### Begin the Modeling here\n",
    "\n",
    "Look critically at the dtypes of numerical and categorical columns and make changes where appropriate.\n",
    "Concatenate numerical and categorical back together again for your X dataframe. Designate the TargetB as y.\n",
    "Split the data into a training set and a test set.\n",
    "Split further into train_num and train_cat. Also test_num and test_cat.\n",
    "Scale the features either by using MinMax Scaler or a Standard Scaler. (train_num, test_num)\n",
    "Encode the categorical features using One-Hot Encoding or Ordinal Encoding. (train_cat, test_cat)\n",
    "fit only on train data, transform both train and test\n",
    "again re-concatenate train_num and train_cat as X_train as well as test_num and test_cat as X_test\n",
    "Fit a logistic regression model on the training data.\n",
    "Check the accuracy on the test data.\n",
    "Note: So far we have not balanced the data.\n",
    "\n",
    "- Managing imbalance in the dataset\n",
    "\n",
    "Check for the imbalance.\n",
    "Use the resampling strategies used in class for upsampling and downsampling to create a balance between the two classes.\n",
    "Each time fit the model and see how the accuracy of the model has changed."
   ]
  },
  {
   "cell_type": "code",
   "execution_count": 1,
   "id": "faeb721a",
   "metadata": {},
   "outputs": [],
   "source": [
    "import pandas as pd\n",
    "import numpy as np\n",
    "import matplotlib.pyplot as plt\n",
    "import seaborn as sns \n",
    "pd.set_option('display.max_columns', None)"
   ]
  },
  {
   "cell_type": "code",
   "execution_count": 89,
   "id": "32b2fe7f",
   "metadata": {},
   "outputs": [],
   "source": [
    "numerical = pd.read_csv('/Users/heloisabal/IH-Labs/lab-revisiting-machine-learning/numerical.csv')\n",
    "categorical = pd.read_csv('/Users/heloisabal/IH-Labs/lab-revisiting-machine-learning/categorical.csv')"
   ]
  },
  {
   "cell_type": "code",
   "execution_count": 90,
   "id": "0a60f761",
   "metadata": {},
   "outputs": [
    {
     "name": "stdout",
     "output_type": "stream",
     "text": [
      "(95280, 318)\n",
      "(95412, 13)\n"
     ]
    }
   ],
   "source": [
    "print(numerical.shape)\n",
    "print(categorical.shape)"
   ]
  },
  {
   "cell_type": "code",
   "execution_count": 91,
   "id": "c6260fef",
   "metadata": {},
   "outputs": [],
   "source": [
    "donors = pd.concat([numerical, categorical], axis=1)\n",
    "donors = donors.dropna()"
   ]
  },
  {
   "cell_type": "code",
   "execution_count": 92,
   "id": "e48ea877",
   "metadata": {},
   "outputs": [
    {
     "data": {
      "text/plain": [
       "TCODE       float64\n",
       "DOB         float64\n",
       "AGE         float64\n",
       "INCOME      float64\n",
       "WEALTH1     float64\n",
       "             ...   \n",
       "RFA_2R       object\n",
       "RFA_2A       object\n",
       "GEOCODE2     object\n",
       "DOMAIN_A     object\n",
       "DOMAIN_B      int64\n",
       "Length: 331, dtype: object"
      ]
     },
     "execution_count": 92,
     "metadata": {},
     "output_type": "execute_result"
    }
   ],
   "source": [
    "donors.dtypes"
   ]
  },
  {
   "cell_type": "code",
   "execution_count": 93,
   "id": "395d62bb",
   "metadata": {},
   "outputs": [],
   "source": [
    "X = donors.drop(columns=['TARGET_B','TARGET_D'])\n",
    "y = donors['TARGET_B']"
   ]
  },
  {
   "cell_type": "code",
   "execution_count": 94,
   "id": "362a8536",
   "metadata": {},
   "outputs": [],
   "source": [
    "from sklearn.model_selection import train_test_split\n",
    "X_train, X_test, y_train, y_test = train_test_split(X, y, test_size=0.2)"
   ]
  },
  {
   "cell_type": "code",
   "execution_count": 96,
   "id": "e83abdc0",
   "metadata": {},
   "outputs": [
    {
     "data": {
      "text/plain": [
       "STATE       object\n",
       "CLUSTER      int64\n",
       "AGEFLAG     object\n",
       "HOMEOWNR    object\n",
       "GENDER      object\n",
       "DATASRCE     int64\n",
       "SOLIH        int64\n",
       "VETERANS    object\n",
       "RFA_2R      object\n",
       "RFA_2A      object\n",
       "GEOCODE2    object\n",
       "DOMAIN_A    object\n",
       "DOMAIN_B     int64\n",
       "dtype: object"
      ]
     },
     "execution_count": 96,
     "metadata": {},
     "output_type": "execute_result"
    }
   ],
   "source": [
    "categorical.dtypes"
   ]
  },
  {
   "cell_type": "code",
   "execution_count": 97,
   "id": "e3c488ab",
   "metadata": {},
   "outputs": [],
   "source": [
    "X_train_num = X_train.select_dtypes(np.number)\n",
    "X_test_num = X_test.select_dtypes(np.number)"
   ]
  },
  {
   "cell_type": "code",
   "execution_count": 98,
   "id": "3aa2bceb",
   "metadata": {},
   "outputs": [],
   "source": [
    "X_train_cat = X_train.select_dtypes(object)\n",
    "X_test_cat = X_test.select_dtypes(object)"
   ]
  },
  {
   "cell_type": "code",
   "execution_count": 99,
   "id": "9fe98d66",
   "metadata": {},
   "outputs": [],
   "source": [
    "from sklearn.preprocessing import MinMaxScaler\n",
    "\n",
    "MinMaxtransformer = MinMaxScaler().fit(X_train_num)\n",
    "X_train_normalized = MinMaxtransformer.transform(X_train_num)\n",
    "# we transform the test also but don't fit the transformer again\n",
    "X_test_normalized = MinMaxtransformer.transform(X_test_num)"
   ]
  },
  {
   "cell_type": "code",
   "execution_count": 100,
   "id": "2a3149aa",
   "metadata": {},
   "outputs": [],
   "source": [
    "from sklearn.preprocessing import OneHotEncoder\n",
    "\n",
    "encoder = OneHotEncoder(drop='first').fit(X_train_cat)\n",
    "X_train_encode = encoder.transform(X_train_cat).toarray()\n",
    "# we encode the test also but don't fit the encoder again\n",
    "X_test_encode = encoder.transform(X_test_cat).toarray()"
   ]
  },
  {
   "cell_type": "code",
   "execution_count": 101,
   "id": "b21cb499",
   "metadata": {},
   "outputs": [],
   "source": [
    "X_train = np.concatenate((X_train_normalized,X_train_encode),axis=1)\n",
    "X_test = np.concatenate((X_test_normalized,X_test_encode),axis=1)"
   ]
  },
  {
   "cell_type": "code",
   "execution_count": 102,
   "id": "05efbb44",
   "metadata": {},
   "outputs": [
    {
     "name": "stdout",
     "output_type": "stream",
     "text": [
      "test data accuracy was  0.9473131821998321\n",
      "train data accuracy was  0.9515113350125944\n"
     ]
    }
   ],
   "source": [
    "from sklearn.tree import DecisionTreeClassifier\n",
    "\n",
    "model = DecisionTreeClassifier(max_depth=10)\n",
    "model.fit(X_train, y_train)\n",
    "\n",
    "print(\"test data accuracy was \",model.score(X_test,y_test))\n",
    "print(\"train data accuracy was \",model.score(X_train,y_train))"
   ]
  },
  {
   "cell_type": "code",
   "execution_count": 103,
   "id": "b49d7c06",
   "metadata": {},
   "outputs": [
    {
     "name": "stdout",
     "output_type": "stream",
     "text": [
      "(76224, 320)\n",
      "(76224, 83)\n"
     ]
    }
   ],
   "source": [
    "from sklearn.feature_selection import VarianceThreshold \n",
    "var_threshold = 0.02\n",
    "sel = VarianceThreshold(threshold=(var_threshold))\n",
    "\n",
    "sel = sel.fit(X_train_normalized)\n",
    "temp = sel.transform(X_train_normalized)\n",
    "temp = pd.DataFrame(temp)\n",
    "print(X_train_normalized.shape)\n",
    "print(temp.shape)"
   ]
  },
  {
   "cell_type": "code",
   "execution_count": 104,
   "id": "591a3864",
   "metadata": {},
   "outputs": [
    {
     "name": "stdout",
     "output_type": "stream",
     "text": [
      "CPU times: user 200 ms, sys: 176 ms, total: 376 ms\n",
      "Wall time: 111 ms\n"
     ]
    }
   ],
   "source": [
    "%%time\n",
    "from sklearn.feature_selection import SelectKBest\n",
    "from sklearn.feature_selection import chi2\n",
    "\n",
    "\n",
    "kbest = SelectKBest(chi2, k=10)\n",
    "selector = kbest.fit(X_train_normalized, y_train)\n",
    "\n",
    "X_train_selected = selector.transform(X_train_normalized)\n",
    "X_test_selected = selector.transform(X_test_normalized)"
   ]
  },
  {
   "cell_type": "code",
   "execution_count": 105,
   "id": "130fd216",
   "metadata": {},
   "outputs": [
    {
     "data": {
      "text/html": [
       "<div>\n",
       "<style scoped>\n",
       "    .dataframe tbody tr th:only-of-type {\n",
       "        vertical-align: middle;\n",
       "    }\n",
       "\n",
       "    .dataframe tbody tr th {\n",
       "        vertical-align: top;\n",
       "    }\n",
       "\n",
       "    .dataframe thead th {\n",
       "        text-align: right;\n",
       "    }\n",
       "</style>\n",
       "<table border=\"1\" class=\"dataframe\">\n",
       "  <thead>\n",
       "    <tr style=\"text-align: right;\">\n",
       "      <th></th>\n",
       "      <th>0</th>\n",
       "      <th>1</th>\n",
       "      <th>2</th>\n",
       "      <th>3</th>\n",
       "      <th>4</th>\n",
       "      <th>5</th>\n",
       "      <th>6</th>\n",
       "      <th>7</th>\n",
       "      <th>8</th>\n",
       "      <th>9</th>\n",
       "    </tr>\n",
       "  </thead>\n",
       "  <tbody>\n",
       "    <tr>\n",
       "      <th>0</th>\n",
       "      <td>0.000000</td>\n",
       "      <td>0.000000</td>\n",
       "      <td>0.010101</td>\n",
       "      <td>0.010101</td>\n",
       "      <td>0.090909</td>\n",
       "      <td>0.060606</td>\n",
       "      <td>0.191919</td>\n",
       "      <td>0.008475</td>\n",
       "      <td>0.073171</td>\n",
       "      <td>0.333333</td>\n",
       "    </tr>\n",
       "    <tr>\n",
       "      <th>1</th>\n",
       "      <td>0.030303</td>\n",
       "      <td>0.040404</td>\n",
       "      <td>0.242424</td>\n",
       "      <td>0.616162</td>\n",
       "      <td>0.858586</td>\n",
       "      <td>0.171717</td>\n",
       "      <td>0.434343</td>\n",
       "      <td>0.021186</td>\n",
       "      <td>0.073171</td>\n",
       "      <td>0.333333</td>\n",
       "    </tr>\n",
       "    <tr>\n",
       "      <th>2</th>\n",
       "      <td>0.000000</td>\n",
       "      <td>0.000000</td>\n",
       "      <td>0.000000</td>\n",
       "      <td>0.010101</td>\n",
       "      <td>0.070707</td>\n",
       "      <td>0.000000</td>\n",
       "      <td>0.000000</td>\n",
       "      <td>0.021186</td>\n",
       "      <td>0.073171</td>\n",
       "      <td>0.666667</td>\n",
       "    </tr>\n",
       "    <tr>\n",
       "      <th>3</th>\n",
       "      <td>0.010101</td>\n",
       "      <td>0.878788</td>\n",
       "      <td>0.979798</td>\n",
       "      <td>1.000000</td>\n",
       "      <td>1.000000</td>\n",
       "      <td>0.979798</td>\n",
       "      <td>0.989899</td>\n",
       "      <td>0.033898</td>\n",
       "      <td>0.121951</td>\n",
       "      <td>1.000000</td>\n",
       "    </tr>\n",
       "    <tr>\n",
       "      <th>4</th>\n",
       "      <td>0.000000</td>\n",
       "      <td>0.010101</td>\n",
       "      <td>0.020202</td>\n",
       "      <td>0.080808</td>\n",
       "      <td>0.242424</td>\n",
       "      <td>0.030303</td>\n",
       "      <td>0.181818</td>\n",
       "      <td>0.000000</td>\n",
       "      <td>0.024390</td>\n",
       "      <td>0.000000</td>\n",
       "    </tr>\n",
       "  </tbody>\n",
       "</table>\n",
       "</div>"
      ],
      "text/plain": [
       "          0         1         2         3         4         5         6  \\\n",
       "0  0.000000  0.000000  0.010101  0.010101  0.090909  0.060606  0.191919   \n",
       "1  0.030303  0.040404  0.242424  0.616162  0.858586  0.171717  0.434343   \n",
       "2  0.000000  0.000000  0.000000  0.010101  0.070707  0.000000  0.000000   \n",
       "3  0.010101  0.878788  0.979798  1.000000  1.000000  0.979798  0.989899   \n",
       "4  0.000000  0.010101  0.020202  0.080808  0.242424  0.030303  0.181818   \n",
       "\n",
       "          7         8         9  \n",
       "0  0.008475  0.073171  0.333333  \n",
       "1  0.021186  0.073171  0.333333  \n",
       "2  0.021186  0.073171  0.666667  \n",
       "3  0.033898  0.121951  1.000000  \n",
       "4  0.000000  0.024390  0.000000  "
      ]
     },
     "execution_count": 105,
     "metadata": {},
     "output_type": "execute_result"
    }
   ],
   "source": [
    "selected = pd.DataFrame(X_train_selected)\n",
    "selected.head()"
   ]
  },
  {
   "cell_type": "code",
   "execution_count": 106,
   "id": "e6bb1dd5",
   "metadata": {},
   "outputs": [],
   "source": [
    "X_train = np.concatenate((X_train_selected,X_train_encode),axis=1)\n",
    "X_test = np.concatenate((X_test_selected,X_test_encode),axis=1)"
   ]
  },
  {
   "cell_type": "code",
   "execution_count": 107,
   "id": "8f76416d",
   "metadata": {},
   "outputs": [
    {
     "name": "stdout",
     "output_type": "stream",
     "text": [
      "test data accuracy was  0.945528967254408\n",
      "train data accuracy was  0.951786838790932\n"
     ]
    }
   ],
   "source": [
    "model = DecisionTreeClassifier(max_depth=10)\n",
    "model.fit(X_train, y_train)\n",
    "\n",
    "print(\"test data accuracy was \",model.score(X_test,y_test))\n",
    "print(\"train data accuracy was \",model.score(X_train,y_train))"
   ]
  },
  {
   "cell_type": "code",
   "execution_count": 108,
   "id": "2961d137",
   "metadata": {},
   "outputs": [],
   "source": [
    "max_depth = range(1,20)\n",
    "test = []\n",
    "train = []\n",
    "\n",
    "for depth in max_depth:\n",
    "    model = DecisionTreeClassifier(max_depth=depth, random_state=0)\n",
    "    model.fit(X_train, y_train)\n",
    "    test.append(model.score(X_test,y_test))\n",
    "    train.append(model.score(X_train,y_train))"
   ]
  },
  {
   "cell_type": "code",
   "execution_count": 109,
   "id": "2b5bdfc0",
   "metadata": {},
   "outputs": [
    {
     "data": {
      "text/plain": [
       "<matplotlib.legend.Legend at 0x15f717ac0>"
      ]
     },
     "execution_count": 109,
     "metadata": {},
     "output_type": "execute_result"
    },
    {
     "data": {
      "image/png": "[encoded data removed]",
      "text/plain": [
       "<Figure size 640x480 with 1 Axes>"
      ]
     },
     "metadata": {},
     "output_type": "display_data"
    }
   ],
   "source": [
    "import matplotlib.pyplot as plt\n",
    "%matplotlib inline\n",
    "plt.plot( train, label=\"training accuracy\")\n",
    "plt.plot( test, label=\"test accuracy\")\n",
    "plt.ylabel(\"Accuracy\")\n",
    "plt.xlabel(\"n_depth-1\")\n",
    "plt.legend()"
   ]
  },
  {
   "cell_type": "code",
   "execution_count": 110,
   "id": "902b0d4c",
   "metadata": {},
   "outputs": [
    {
     "name": "stdout",
     "output_type": "stream",
     "text": [
      "test data accuracy was  0.9499370277078085\n",
      "train data accuracy was  0.9490580394626364\n",
      "Classification Report:\n",
      "               precision    recall  f1-score   support\n",
      "\n",
      "         0.0       0.95      1.00      0.97     18102\n",
      "         1.0       0.00      0.00      0.00       954\n",
      "\n",
      "    accuracy                           0.95     19056\n",
      "   macro avg       0.47      0.50      0.49     19056\n",
      "weighted avg       0.90      0.95      0.93     19056\n",
      "\n"
     ]
    },
    {
     "name": "stderr",
     "output_type": "stream",
     "text": [
      "/Users/heloisabal/anaconda3/lib/python3.10/site-packages/sklearn/metrics/_classification.py:1344: UndefinedMetricWarning: Precision and F-score are ill-defined and being set to 0.0 in labels with no predicted samples. Use `zero_division` parameter to control this behavior.\n",
      "  _warn_prf(average, modifier, msg_start, len(result))\n",
      "/Users/heloisabal/anaconda3/lib/python3.10/site-packages/sklearn/metrics/_classification.py:1344: UndefinedMetricWarning: Precision and F-score are ill-defined and being set to 0.0 in labels with no predicted samples. Use `zero_division` parameter to control this behavior.\n",
      "  _warn_prf(average, modifier, msg_start, len(result))\n",
      "/Users/heloisabal/anaconda3/lib/python3.10/site-packages/sklearn/metrics/_classification.py:1344: UndefinedMetricWarning: Precision and F-score are ill-defined and being set to 0.0 in labels with no predicted samples. Use `zero_division` parameter to control this behavior.\n",
      "  _warn_prf(average, modifier, msg_start, len(result))\n"
     ]
    }
   ],
   "source": [
    "from sklearn.metrics import classification_report\n",
    "\n",
    "model = DecisionTreeClassifier(max_depth=3)\n",
    "model.fit(X_train, y_train)\n",
    "y_pred = model.predict(X_test)\n",
    "\n",
    "print(\"test data accuracy was \",model.score(X_test,y_test))\n",
    "print(\"train data accuracy was \",model.score(X_train,y_train))\n",
    "print(\"Classification Report:\\n\", classification_report(y_test, y_pred))"
   ]
  },
  {
   "cell_type": "markdown",
   "id": "1a663d8a",
   "metadata": {},
   "source": [
    "### SMOTE"
   ]
  },
  {
   "cell_type": "code",
   "execution_count": 112,
   "id": "13608f12",
   "metadata": {},
   "outputs": [],
   "source": [
    "from imblearn.over_sampling import SMOTE\n",
    "\n",
    "smote = SMOTE(k_neighbors=3)\n",
    "X_resampled, y_resampled = smote.fit_resample(X_train, y_train)"
   ]
  },
  {
   "cell_type": "code",
   "execution_count": 113,
   "id": "493bcd1c",
   "metadata": {},
   "outputs": [
    {
     "name": "stdout",
     "output_type": "stream",
     "text": [
      "test data accuracy was  0.7087531486146096\n",
      "train data accuracy was  0.7208844223884104\n",
      "Classification Report:\n",
      "               precision    recall  f1-score   support\n",
      "\n",
      "         0.0       0.96      0.72      0.83     18102\n",
      "         1.0       0.08      0.43      0.13       954\n",
      "\n",
      "    accuracy                           0.71     19056\n",
      "   macro avg       0.52      0.58      0.48     19056\n",
      "weighted avg       0.92      0.71      0.79     19056\n",
      "\n"
     ]
    }
   ],
   "source": [
    "model = DecisionTreeClassifier(max_depth=3)\n",
    "model.fit(X_resampled, y_resampled)\n",
    "y_pred = model.predict(X_test)\n",
    "\n",
    "print(\"test data accuracy was \",model.score(X_test,y_test))\n",
    "print(\"train data accuracy was \",model.score(X_resampled,y_resampled))\n",
    "print(\"Classification Report:\\n\", classification_report(y_test, y_pred))"
   ]
  },
  {
   "cell_type": "code",
   "execution_count": 114,
   "id": "63d112a2",
   "metadata": {},
   "outputs": [],
   "source": [
    "max_depth = range(1,20)\n",
    "test = []\n",
    "train = []\n",
    "\n",
    "for depth in max_depth:\n",
    "    model = DecisionTreeClassifier(max_depth=depth, random_state=0)\n",
    "    model.fit(X_resampled, y_resampled)\n",
    "    test.append(model.score(X_test,y_test))\n",
    "    train.append(model.score(X_resampled, y_resampled))"
   ]
  },
  {
   "cell_type": "code",
   "execution_count": 115,
   "id": "8dd7ebdb",
   "metadata": {},
   "outputs": [
    {
     "data": {
      "text/plain": [
       "<matplotlib.legend.Legend at 0x17fd42710>"
      ]
     },
     "execution_count": 115,
     "metadata": {},
     "output_type": "execute_result"
    },
    {
     "data": {
      "image/png": "[encoded data removed]",
      "text/plain": [
       "<Figure size 640x480 with 1 Axes>"
      ]
     },
     "metadata": {},
     "output_type": "display_data"
    }
   ],
   "source": [
    "import matplotlib.pyplot as plt\n",
    "%matplotlib inline\n",
    "plt.plot( train, label=\"training accuracy\")\n",
    "plt.plot( test, label=\"test accuracy\")\n",
    "plt.ylabel(\"Accuracy\")\n",
    "plt.xlabel(\"n_depth-1\")\n",
    "plt.legend()"
   ]
  },
  {
   "cell_type": "code",
   "execution_count": 116,
   "id": "e00bfb7a",
   "metadata": {},
   "outputs": [
    {
     "name": "stdout",
     "output_type": "stream",
     "text": [
      "test data accuracy was  0.9478379513014273\n",
      "train data accuracy was  0.8626505024813038\n",
      "Classification Report:\n",
      "               precision    recall  f1-score   support\n",
      "\n",
      "         0.0       0.95      1.00      0.97     18102\n",
      "         1.0       0.00      0.00      0.00       954\n",
      "\n",
      "    accuracy                           0.95     19056\n",
      "   macro avg       0.47      0.50      0.49     19056\n",
      "weighted avg       0.90      0.95      0.92     19056\n",
      "\n"
     ]
    }
   ],
   "source": [
    "model = DecisionTreeClassifier(max_depth=10)\n",
    "model.fit(X_resampled, y_resampled)\n",
    "y_pred = model.predict(X_test)\n",
    "\n",
    "print(\"test data accuracy was \",model.score(X_test,y_test))\n",
    "print(\"train data accuracy was \",model.score(X_resampled,y_resampled))\n",
    "print(\"Classification Report:\\n\", classification_report(y_test, y_pred))"
   ]
  }
 ],
 "metadata": {
  "kernelspec": {
   "display_name": "Python 3 (ipykernel)",
   "language": "python",
   "name": "python3"
  },
  "language_info": {
   "codemirror_mode": {
    "name": "ipython",
    "version": 3
   },
   "file_extension": ".py",
   "mimetype": "text/x-python",
   "name": "python",
   "nbconvert_exporter": "python",
   "pygments_lexer": "ipython3",
   "version": "3.10.9"
  }
 },
 "nbformat": 4,
 "nbformat_minor": 5
}
